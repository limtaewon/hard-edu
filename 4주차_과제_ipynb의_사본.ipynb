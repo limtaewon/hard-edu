{
  "nbformat": 4,
  "nbformat_minor": 0,
  "metadata": {
    "colab": {
      "name": "4주차 과제.ipynb의 사본",
      "provenance": [],
      "collapsed_sections": [],
      "include_colab_link": true
    },
    "kernelspec": {
      "name": "python3",
      "display_name": "Python 3"
    }
  },
  "cells": [
    {
      "cell_type": "markdown",
      "metadata": {
        "id": "view-in-github",
        "colab_type": "text"
      },
      "source": [
        "<a href=\"https://colab.research.google.com/github/limtaewon/hard-edu/blob/master/4%EC%A3%BC%EC%B0%A8_%EA%B3%BC%EC%A0%9C_ipynb%EC%9D%98_%EC%82%AC%EB%B3%B8.ipynb\" target=\"_parent\"><img src=\"https://colab.research.google.com/assets/colab-badge.svg\" alt=\"Open In Colab\"/></a>"
      ]
    },
    {
      "cell_type": "markdown",
      "metadata": {
        "id": "wxkL6PjwsI6L",
        "colab_type": "text"
      },
      "source": [
        "# 4주차 과제\n",
        "- 용어 정리\n",
        "- 딥러닝 강의 클론 코딩\n",
        "- 딥러닝 순전파 & 역전파 계산"
      ]
    },
    {
      "cell_type": "markdown",
      "metadata": {
        "id": "ixEtDe6_uGgI",
        "colab_type": "text"
      },
      "source": [
        "## 1. 용어 정리\n",
        "\n",
        "다음 제시된 단어의 정의(설명)를 정리하여 작성 하세요.\n",
        "\n",
        "* 2문장 이상 작성 해 주세요. \n",
        "* 주제(단어)와 크게 벗어나지만 않는다면 정답처리 됩니다.\n",
        "* 강의 뿐 아니라 기타 레퍼런스를 참고하여 작성하셔도 됩니다. (기타 레퍼런스를 참고하신 경우, 해당 레퍼런스를 정리하여 하단에 작성해 주세요.)\n"
      ]
    },
    {
      "cell_type": "markdown",
      "metadata": {
        "id": "0lfwat8eurKZ",
        "colab_type": "text"
      },
      "source": [
        "__(예시)__\n",
        "### 심층 신경망\n",
        ": 입력층과 출력층 사이에 여러 개의 은닉층들로 이뤄진 인공신경망이다. 심층 신경망은 일반적으로 인공신경망과 마찬가지로 복잡한 비선형 관계들을 모델링 할 수 있다. 신층신경망의 목적은 분류 및 수치예측을 하기 위함이고 이미지 트레이닝이나 문자인식과 같은 분야에서 매우 유용하게 쓰이고 있다."
      ]
    },
    {
      "cell_type": "markdown",
      "metadata": {
        "id": "Y8YJNKG_v65A",
        "colab_type": "text"
      },
      "source": [
        "### MCP 뉴런\n",
        ":입력신호가 가지돌기에 들어오면 신경세포 내에서 이들을 하나의 신호로 통합하고 이 신호가 어느 임계점을 넘게되면 축삭돌기를 통해 다른 신경세포로 전달하는 뉴런으로써 단순화된 원리로 동작하는 뇌세포를 MCP뉴런이라고 부르며 후에 퍼셉트론의 창시자 Frank Rosenblatt가 이를보고 퍼셉트론 학습규칙을 고안해내며 이진출력을 내는 간단한 논리회로라고 보면된다 \n",
        "\n",
        "### 퍼셉트론\n",
        ":퍼셉트론은 신경망,딥러닝의 뿌리가되는 인공신경망의 한 종류로써 각 노드의 가중치와 입력치를 곱한 후 모두 합한 값을 활성함수로 판단하는데 그 값이 임계치(보통 0)보다 크면 뉴런이 활성화 되며 결과값으로 1을 출력하고 그렇지않으면 -1을 출력해주는 인공신경망이다 과거 and 연산과 or연산은 가능했지만 xor연산이 불가능하다는 이유로 인정받지 못하였으나 후에 다층 퍼셉트론으로 xor연산을 해내면서 많이 사용되었다\n",
        "\n",
        "### 역전파\n",
        ":역방향 미분이라고도 불리며 제프리힌튼이 고안한 역전파알고리즘은 편향과 가중치 값을 정할 때 효과적인 알고리즘이며 출력값과 지도데이터(기대출력값) 사이에 생기는 오차를 이용해 출력층에서 입력층쪽으로 가중치,편향을 조정하는것 이라고 보면된다 \n",
        "\n",
        "### 강화학습\n",
        ":강화학습이란 행동에대한 보상과 패널티를통한 학습과정이며 쉽게말해 시행착오라는 과정을 겪으며 보상을 최대화하는 의사결정 전략을 학습하는것이라고 말할수 있겠다 대표적인 예로는 구글 딥마인드의 알파고가있다. \n",
        "\n",
        "### 과적합\n",
        ":과적합이란 실제데이터의 부분집합이라고 볼 수 있는 학습데이터에관하여 과하게 학습을 잘하여 학습데이터에대한 오차는 줄어들었으나 오히려 실제데이터에관하여 오차가 늘어나는것 을 말하며 예시로는 검정색과 하얀색 고양이사진에관한 학습데이터를 학습하여 검정색과 하얀색 고양이는 고양이라고 결과를 내놓지만 노란색 고양이에대해서는 결과를 내놓지못하는 현상이있다\n",
        "\n",
        "### 차원의 저주\n",
        ": 차원의 저주란 KNN(K-근접이웃알고리즘)같이 훈련데이터셋을 많이 이용하는 알고리즘에서 훈련데이터셋의 차원이 늘어남에 따라 특성공간이 점점 희미해지는 현상을 이야기하며 이를 피하기위하여  올바른 변수의 선택 , 차원축소등을 사용해야한다  \n"
      ]
    },
    {
      "cell_type": "markdown",
      "metadata": {
        "id": "d-zfFXLCy6jD",
        "colab_type": "text"
      },
      "source": [
        "## 2. 딥러닝 강의 클론 코딩\n",
        "\n",
        "####__퍼셉트론 구조 구현하기__ \n",
        "딥러닝 강의(__딥러닝 원리[1] 3:15 ~ 5:15 부분__)를 보고 코드를 따라 치며 출력 결과를 만드세요.\n",
        " \n",
        "\n",
        "* 하나의 코드셀에 해당 코드를 한번에 다 적어서 실행해주세요 (__그렇게 하지 않을 경우, 아래 이미지와 같은 출력값이 나오지 않을 수 있습니다__)\n",
        "\n",
        "*__주의!__ 실제로 코딩해서 출력해보면 강의에 나온 출력 결과와 다르게 나옵니다!!\n"
      ]
    },
    {
      "cell_type": "markdown",
      "metadata": {
        "id": "wcc5mzI9oZ7r",
        "colab_type": "text"
      },
      "source": [
        "![대체 텍스트](https://www.notion.so/image/https%3A%2F%2Fs3-us-west-2.amazonaws.com%2Fsecure.notion-static.com%2F0cceeed0-0235-4b0f-af88-0b8c377d5b4b%2F_2020-06-09__9.35.23.png?table=block&id=88fd8912-9356-49a4-9fda-a1a63fe96ea9&width=2870&cache=v2)"
      ]
    },
    {
      "cell_type": "code",
      "metadata": {
        "id": "zlETln5-QrKF",
        "colab_type": "code",
        "colab": {
          "base_uri": "https://localhost:8080/",
          "height": 223
        },
        "outputId": "98e06e08-6829-4d13-8707-9007ab041d14"
      },
      "source": [
        "import tensorflow as tf\n",
        "import math\n",
        "tf.compat.v1.set_random_seed(2020)\n",
        "x=1\n",
        "y=0\n",
        "w=tf.random.normal([1],0,1)\n",
        "def sigmoid(x):\n",
        "  return 1/(1 + math.exp(-x))\n",
        "output = sigmoid(x*w)\n",
        "print(output)\n",
        "for i in range(1000):\n",
        "  output = sigmoid(x*w)\n",
        "  error = y - output\n",
        "  w = w + x*0.1*error\n",
        "  if i%100 ==99:\n",
        "    print(\"학습 횟수: %d Error : %.20f 예측결과 : %.20f\"%(i,error,output))\n",
        "  "
      ],
      "execution_count": null,
      "outputs": [
        {
          "output_type": "stream",
          "text": [
            "0.47477188589261\n",
            "학습 횟수: 99 Error : -0.10010598284299604410 예측결과 : 0.10010598284299604410\n",
            "학습 횟수: 199 Error : -0.05178399422833115939 예측결과 : 0.05178399422833115939\n",
            "학습 횟수: 299 Error : -0.03459045197790358572 예측결과 : 0.03459045197790358572\n",
            "학습 횟수: 399 Error : -0.02588962752851373117 예측결과 : 0.02588962752851373117\n",
            "학습 횟수: 499 Error : -0.02065869993986361661 예측결과 : 0.02065869993986361661\n",
            "학습 횟수: 599 Error : -0.01717425399345735501 예측결과 : 0.01717425399345735501\n",
            "학습 횟수: 699 Error : -0.01468950644948099210 예측결과 : 0.01468950644948099210\n",
            "학습 횟수: 799 Error : -0.01282949726543134231 예측결과 : 0.01282949726543134231\n",
            "학습 횟수: 899 Error : -0.01138556827183780443 예측결과 : 0.01138556827183780443\n",
            "학습 횟수: 999 Error : -0.01023249330988249169 예측결과 : 0.01023249330988249169\n"
          ],
          "name": "stdout"
        }
      ]
    },
    {
      "cell_type": "code",
      "metadata": {
        "id": "C2gx3y5TS4L4",
        "colab_type": "code",
        "colab": {}
      },
      "source": [
        ""
      ],
      "execution_count": null,
      "outputs": []
    },
    {
      "cell_type": "markdown",
      "metadata": {
        "id": "kr0HVRk8fOom",
        "colab_type": "text"
      },
      "source": [
        "## 3. 딥러닝 순전파 & 역전파 계산\n",
        "\n",
        "딥러닝 강의(__딥러닝 원리[2] 0:55 ~ 4:32 부분__)에 나오는 순전파 & 역전파 계산에 대한 문제 입니다.\n",
        "\n",
        "해당 영상과 다음 이미지를 참고하여 다음 2가지 물음에 답하세요.\n",
        "\n",
        "\n",
        "(1) 학습률이 0.2 일 경우 출력층의 노드값\n",
        "\n",
        "(2) 학습률이 0.1과 0.2 중 기대출력값이 지도데이터 \"3\"과 더 가까운 학습률은?"
      ]
    },
    {
      "cell_type": "markdown",
      "metadata": {
        "id": "CpwPFWhOUzww",
        "colab_type": "text"
      },
      "source": [
        "![대체 텍스트](https://www.notion.so/image/https%3A%2F%2Fs3-us-west-2.amazonaws.com%2Fsecure.notion-static.com%2Ff54dfd45-92ec-44ae-9616-6949d2484a45%2F_2020-06-10__5.22.03.png?table=block&id=ee05da89-3ceb-4ad9-a2d3-c9f68d24d1d9&width=3580&cache=v2)"
      ]
    },
    {
      "cell_type": "markdown",
      "metadata": {
        "id": "B2OVY7w5U3CI",
        "colab_type": "text"
      },
      "source": [
        "## (1) 학습률이 0.2 일 경우 출력층의 노드값 : 2\n",
        "## (2) 학습률이 0.1과 0.2 중 기대출력값이 지도데이터 \"3\"과 더 가까운 학습률은? :0.1\n",
        " "
      ]
    },
    {
      "cell_type": "code",
      "metadata": {
        "id": "BgavfvqiWxBU",
        "colab_type": "code",
        "colab": {}
      },
      "source": [
        ""
      ],
      "execution_count": null,
      "outputs": []
    }
  ]
}